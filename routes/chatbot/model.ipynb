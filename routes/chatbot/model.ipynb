{
  "cells": [
    {
      "cell_type": "markdown",
      "metadata": {
        "id": "XnW75w9YN48N"
      },
      "source": [
        "# **Krack Hack**\n",
        "## **Theme:**\n",
        "1) AI for Sustainable development goals\n",
        "2) Intelligent Financial Advisor\n",
        "\n",
        "### **Problem Statement:**\n",
        "Many individuals lack access to personalized financial advice and struggle to perform cash flow analysis. Moreover, there is a need for leveraging AI to address sustainable development goals (SDGs) such as financial empowerment  enabling individuals to make sound financial decisions and plans.\n",
        "\n",
        "### **Solution (Building application for Financial advisory using GPT-3.5 Turbo Model, FAISS, LANGCHAIN, RAG Model, Next.JS with Voice Features)**\n",
        "Develop an intelligent financial advisor platform that integrates artificial intelligence  to offer personalized financial advice and cash flow analysis to users. This platform will assist users in making informed decisions regarding investments and financial goals, thereby promoting financial empowerment.. This solution aligns with SDGs by addressing the need for financial empowerment to  promote sustainable development."
      ]
    },
    {
      "cell_type": "markdown",
      "metadata": {
        "id": "00-h2P9nN48a"
      },
      "source": [
        "**Data Information**\n",
        "   - The data consists of 9 books\n",
        "   1) TRACTION : GET A GRIP ON YOUR BUSINESS - GINO\tWICKMAN\n",
        "   2) Rich Dad Poor dad\n",
        "   3) The Intelligent Investor - BENJAMIN GRAHAM\n",
        "   4) The Millionaire Next Door ( Thomas J. Stanley & William D. Danko, 1998)\n",
        "   5) The Total Money Makeover - Dave Ramsey\n",
        "   6) The-Little-Book-of-Common-Sense-Investing\n",
        "   7) The-Psychology-of-Money\n",
        "   8) Thinking-Fast-and-Slow\n",
        "   9) I Will Teach You To Be Rich - Ramit Sethi\n",
        "   \n",
        "**Loading the document and splitting text:**\n",
        "   - Loading the pdf file using PyPDFLoader and extracted text from the pdf\n",
        "   - Splitting the text into smaller chunks using langchain.text_splitter\n",
        "\n",
        "**Text Embeddings:**\n",
        "   - Text embeddings are generated using the `HuggingFaceEmbeddings` class from `langchain_community.embeddings`.\n",
        "   - The model used for embedding is 'sentence-transformers/all-MiniLM-L6-v2', and it is configured to run on the CPU.\n",
        "\n",
        "**Converting to vectors and saving it**\n",
        "   - Converted text to vector using FAISS class from langchain_community.vectorstores and then saving the data"
      ]
    },
    {
      "cell_type": "code",
      "execution_count": 75,
      "metadata": {
        "colab": {
          "base_uri": "https://localhost:8080/"
        },
        "id": "71NHboHhOnaM",
        "outputId": "351f7ff0-8e98-4acb-d3ad-12f0181fb6c7"
      },
      "outputs": [],
      "source": [
        "# !pip install langchain pypdf pypdf2 sentence_transformers"
      ]
    },
    {
      "cell_type": "code",
      "execution_count": 76,
      "metadata": {
        "colab": {
          "base_uri": "https://localhost:8080/"
        },
        "id": "kAvOAd8rRZFt",
        "outputId": "eef4d690-2274-4357-8ff4-ca931909cab7"
      },
      "outputs": [],
      "source": [
        "# !pip install accelerate"
      ]
    },
    {
      "cell_type": "code",
      "execution_count": 77,
      "metadata": {
        "id": "V-KGCV4fN48b"
      },
      "outputs": [],
      "source": [
        "#<-------------------------------------------------------------------------------------------------->\n",
        "#Importing the required libraries\n",
        "from langchain_community.embeddings import HuggingFaceEmbeddings\n",
        "from langchain_community.vectorstores import FAISS\n",
        "from langchain_community.document_loaders import PyPDFLoader, DirectoryLoader\n",
        "from langchain.text_splitter import RecursiveCharacterTextSplitter\n",
        "#<-------------------------------------------------------------------------------------------------->\n",
        "DATA_PATH = 'books/'  #Path containing my data\n",
        "DB_FAISS_PATH = 'vectorstore/db_faiss'  #Path where we store the embeddings of the data\n",
        "#<-------------------------------------------------------------------------------------------------->\n",
        "#Function for creating embeddings of my data\n",
        "def create_vector_db():\n",
        "    #Loading the data\n",
        "    loader = DirectoryLoader(DATA_PATH,glob='*.pdf',loader_cls=PyPDFLoader)\n",
        "    documents = loader.load()\n",
        "\n",
        "    #Splitting the data\n",
        "    text_splitter = RecursiveCharacterTextSplitter(chunk_size=500,chunk_overlap=50)\n",
        "    texts = text_splitter.split_documents(documents)\n",
        "\n",
        "    #Converting to embeddings using sentence transformer model\n",
        "    embeddings = HuggingFaceEmbeddings(model_name='sentence-transformers/all-MiniLM-L6-v2',\n",
        "                                       model_kwargs={'device': 'cpu'})\n",
        "    db = FAISS.from_documents(texts, embeddings)\n",
        "\n",
        "    #Saving the model\n",
        "    db.save_local(DB_FAISS_PATH)\n",
        "\n",
        "    #Returns the database\n",
        "    return db\n",
        "#<-------------------------------------------------------------------------------------------------->"
      ]
    },
    {
      "cell_type": "markdown",
      "metadata": {
        "id": "Q56blJYDN48d"
      },
      "source": [
        "# **Creating a RAG Using LangChain and FAISS**"
      ]
    },
    {
      "cell_type": "markdown",
      "metadata": {
        "id": "gmCH0mXFN48d"
      },
      "source": [
        "    Calling the function created above which converts the text data into embeddings"
      ]
    },
    {
      "cell_type": "code",
      "execution_count": 78,
      "metadata": {
        "colab": {
          "base_uri": "https://localhost:8080/"
        },
        "id": "wROMv5ggQ9_v",
        "outputId": "0afc9256-c1c3-4578-fbe1-173afa773473"
      },
      "outputs": [],
      "source": [
        "# !pip install faiss-cpu"
      ]
    },
    {
      "cell_type": "code",
      "execution_count": 79,
      "metadata": {
        "id": "WslJAXiNN48d"
      },
      "outputs": [],
      "source": [
        "# #<-------------------------------------------------------------------------------------------------->\n",
        "# #Storing the embeddings into db1\n",
        "# db1=create_vector_db()\n",
        "# #<-------------------------------------------------------------------------------------------------->"
      ]
    },
    {
      "cell_type": "markdown",
      "metadata": {
        "id": "TAZif5qnN48d"
      },
      "source": [
        "    Loading the embeddings created above"
      ]
    },
    {
      "cell_type": "code",
      "execution_count": 80,
      "metadata": {
        "id": "2aKMRInmN48e"
      },
      "outputs": [],
      "source": [
        "# #<-------------------------------------------------------------------------------------------------->\n",
        "embeddings = HuggingFaceEmbeddings(model_name='sentence-transformers/all-MiniLM-L6-v2',\n",
        "                                       model_kwargs={'device': 'cpu'})\n",
        "db1 = FAISS.load_local(DB_FAISS_PATH,embeddings,allow_dangerous_deserialization=True)\n",
        "# #<-------------------------------------------------------------------------------------------------->"
      ]
    },
    {
      "cell_type": "markdown",
      "metadata": {
        "id": "M0ParkcnN48e"
      },
      "source": [
        "- It creates a retriever using a vector store (`db1`). The retriever is configured for similarity search, enabling the retrieval of documents similar to a given query."
      ]
    },
    {
      "cell_type": "code",
      "execution_count": 81,
      "metadata": {
        "id": "LzZZKGTzN48e"
      },
      "outputs": [],
      "source": [
        "#<-------------------------------------------------------------------------------------------------->\n",
        "#It checks similar content\n",
        "retriever = db1.as_retriever(\n",
        "   search_type=\"similarity\",\n",
        "   search_kwargs={'k': 100}\n",
        ")\n",
        "#<-------------------------------------------------------------------------------------------------->"
      ]
    },
    {
      "cell_type": "markdown",
      "metadata": {
        "id": "b0SBXmDKN48f"
      },
      "source": [
        "- Checking our vector database and see if it can retrieve similar chunks of content giving some prompt\n",
        "- It is basically fetching the output of the prompt from the vector database only"
      ]
    },
    {
      "cell_type": "code",
      "execution_count": 82,
      "metadata": {
        "colab": {
          "base_uri": "https://localhost:8080/"
        },
        "id": "YJbW3YcBN48f",
        "outputId": "413a6f26-8278-440f-99f0-f7c4c81fbaf4"
      },
      "outputs": [
        {
          "name": "stdout",
          "output_type": "stream",
          "text": [
            "and penetration of host cuticle just as with  ascospores. Late in the season, hyphae grow \n",
            "deep into leaf tissue to start the overwintering  phase of the life cycle.  Control of the apple \n",
            "scab pathogen is primarily with fungicides on  a timed schedule. Removal of infected or \n",
            "dead plant tissues and use of resistant varieties are other recommended practices. \n",
            "The ascomycetes described in this chapte r include a significant number of plant\n"
          ]
        }
      ],
      "source": [
        "#<-------------------------------------------------------------------------------------------------->\n",
        "#Query to ask from the database\n",
        "query = \"How to handle apple scab disease\"\n",
        "\n",
        "#Fetching it from above\n",
        "docs = db1.similarity_search(query)\n",
        "print(docs[0].page_content)\n",
        "#<-------------------------------------------------------------------------------------------------->"
      ]
    },
    {
      "cell_type": "markdown",
      "metadata": {
        "id": "72M6zfn9N48g"
      },
      "source": [
        "We return a lot of text here and it's not that clear what we need or what is relevant. Fortunately, our LLM will be able to parse this information much faster than us. All we need is to connect the output from our `vectorstore` to our `chat` chatbot. To do that we can use the same logic as we used earlier."
      ]
    },
    {
      "cell_type": "code",
      "execution_count": 83,
      "metadata": {
        "id": "gkSm22zPN48g"
      },
      "outputs": [],
      "source": [
        "# #<-------------------------------------------------------------------------------------------------->\n",
        "def augment_prompt(query: str):\n",
        "    # get top 3 results from knowledge base\n",
        "    results = db1.similarity_search(query, k=10)\n",
        "    # get the text from the results\n",
        "    source_knowledge = \"\\n\".join([x.page_content for x in results])\n",
        "    # feed into an augmented prompt\n",
        "    augmented_prompt = f\"\"\"Using the contexts below, answer the query.\n",
        "\n",
        "    Contexts:\n",
        "    {source_knowledge}\n",
        "\n",
        "    Query: {query}\"\"\"\n",
        "    return augmented_prompt\n",
        "# #<-------------------------------------------------------------------------------------------------->"
      ]
    },
    {
      "cell_type": "markdown",
      "metadata": {
        "id": "3oawdQ9vN48g"
      },
      "source": [
        "Using this we produce an augmented prompt:"
      ]
    },
    {
      "cell_type": "code",
      "execution_count": 84,
      "metadata": {
        "colab": {
          "base_uri": "https://localhost:8080/"
        },
        "id": "v6RRmvF7N48g",
        "outputId": "8431e4a4-946e-4992-9fd3-ba09ef522492"
      },
      "outputs": [
        {
          "name": "stdout",
          "output_type": "stream",
          "text": [
            "Using the contexts below, answer the query.\n",
            "\n",
            "    Contexts:\n",
            "    and penetration of host cuticle just as with  ascospores. Late in the season, hyphae grow \n",
            "deep into leaf tissue to start the overwintering  phase of the life cycle.  Control of the apple \n",
            "scab pathogen is primarily with fungicides on  a timed schedule. Removal of infected or \n",
            "dead plant tissues and use of resistant varieties are other recommended practices. \n",
            "The ascomycetes described in this chapte r include a significant number of plant\n",
            "Many diseases, such as apple scab, are more  severe on young tissue because pathogens \n",
            "infect this tissue more readily. Plants are ofte n more susceptible to diseases when they are \n",
            "young or when the plant or particular plant parts are actively growing. Young tissue can \n",
            "be more susceptible to disease because natural barriers (e.g., cuticular coats) have yet to develop. There are also plant diseases, such as Sclerotinia blight of peanut caused by\n",
            "plant, especially when cultivars differ in thei r resistance to Stewart’s wilt (Pataky et al., \n",
            "1995). \n",
            "Initial inoculum also plays a role in the forecast for apple scab. However, the actual \n",
            "amount of initial inoculum is not quantified; rather, the weather that is conducive for \n",
            "release of spores and infection by initial inocul um is analyzed. When infection is favored, \n",
            "the forecast recommends the initiation of a fungicidal spray program. Thus, regular\n",
            "Compendium of Apple and Pear \n",
            "Diseases . American Phytopathological \n",
            "Society. With permission.) Plant pathology     408\n",
            "structures to form on apple leaves. The presen ce of the symptoms and signs of this rust \n",
            "disease are sufficient for disease diagnosis. \n",
            "Review of the Information  Sent with the Sample  \n",
            "Every diagnostic clinic/lab has a diagnostic information sheet or questionnaire that \n",
            "should be completed and shou ld accompany the plant sample. If the client does not have \n",
            "access to these questionnaires, then a letter sh ould accompany the sample to describe the\n",
            "inaequalis,  which causes apple scab and attacks some  related plants. Both leaves and fruit \n",
            "can be infected. Infection begins as a velvety,  olive-green lesion that gets darker and dries \n",
            "as it matures. Venturia inaequalis  overwinters in leaves on the ground. A stroma, which \n",
            "in this species is a pseudothecium, develops slowly within the leaf tissue. An ascogonium \n",
            "develops within the pseudothecium and projects its trichogyne into the surrounding plant\n",
            "epidermal plant cells. The potato scab pathogen Streptomyces scabies  produces cutinase \n",
            "that allows direct penetration of tuber epidermal cells. \n",
            "DISEASE CONTROL  \n",
            "HOST RESISTANCE  \n",
            "Plants are not universally compatible with disease development. A pathogen on its \n",
            "susceptible host cultivar comprises a compatible interaction and disease will develop \n",
            "provided environmental conditions permit. Conversely, a pathogen on a resistant or\n",
            "spot) of brambles \n",
            "(Elsinoë veneta)  \n",
            "Scab Discrete lesions, sunken or raised, on \n",
            "leaves, fruit and tubers Apple scab (Venturia \n",
            "inaequalis)  \n",
            "Dieback Necrosis of twigs that begins at the tip  \n",
            "and progresses toward the twig base Sudden oak death \n",
            "(Phytophthora ramorum)  \n",
            "Canker Discrete, often elliptical lesions on \n",
            "branches and stems that destroy vascular \n",
            "tissue; can appear sunken, raised or \n",
            "cracked; causes wilt, dieback, and death  \n",
            "of the branch; fruiting structures of\n",
            "However, barberry eradication did little to reduce the annual northward advance of \n",
            "urediniospores and the consequent wheat stem  rust infections along the Puccinia Path, \n",
            "as the latter was more a result of meteorolog ical than biological factors. Removal of \n",
            "junipers near apple orchards was formerly recommended as a control for cedar-apple \n",
            "rust, but the often impracticality of that, given the wide-spread distribution of junipers\n",
            "assistance. County extension agents are a good  source for such assistance. They may be \n",
            "able to visit the planting or crop area and help  arrive at a field diagnosis. If it is not \n",
            "possible for them to visit the site, it will be necessary to collect a plant sample. A few \n",
            "considerations should be given to collecting samples. First, the sample collected should be representative of the problem. If a leaf spot and fruit rot of apple (Malus sylvestris)  are\n",
            "\n",
            "    Query: How to handle apple scab disease\n"
          ]
        }
      ],
      "source": [
        "# #<-------------------------------------------------------------------------------------------------->\n",
        "query = \"How to handle apple scab disease\"\n",
        "print(augment_prompt(query))\n",
        "# #<-------------------------------------------------------------------------------------------------->"
      ]
    },
    {
      "cell_type": "markdown",
      "metadata": {
        "id": "yTO-F3axN48h"
      },
      "source": [
        "# **Building LLM Chain for Question-Answering and Integrating Retreival Augmented generation (RAG)**"
      ]
    },
    {
      "cell_type": "markdown",
      "metadata": {
        "id": "_jGxcxKsN48h"
      },
      "source": [
        "- We are using OpenAI API to access the GPT-3.5 Turbo model\n",
        "\n",
        "- The prompt_template variable is a string that contains a template for the prompt that will be given to the model. This template includes an instruction section, which provides context for the question, and a question section, which contains the actual question."
      ]
    },
    {
      "cell_type": "code",
      "execution_count": 85,
      "metadata": {
        "colab": {
          "base_uri": "https://localhost:8080/"
        },
        "id": "vGPNX0pNTjO4",
        "outputId": "5583f5ad-4db0-4a8b-9d76-acfa5e224632"
      },
      "outputs": [],
      "source": [
        "# !pip install openai==0.28"
      ]
    },
    {
      "cell_type": "code",
      "execution_count": 86,
      "metadata": {
        "id": "uDDW2qpGN48h"
      },
      "outputs": [],
      "source": [
        "# #<-------------------------------------------------------------------------------------------------->\n",
        "#Importing Libraries\n",
        "import transformers\n",
        "from transformers import pipeline\n",
        "import openai\n",
        "# #<-------------------------------------------------------------------------------------------------->\n",
        "# Loading the GPT-3.5 Turbo model\n",
        "openai.api_key = 'sk-proj-qIzYflKkszJgArMzdhBsT3BlbkFJUX4IEIJXAE6pPE7LcNhW'\n",
        "model_id = 'gpt-3.5-turbo'\n",
        "# #<-------------------------------------------------------------------------------------------------->\n",
        "# Generating template of prompt to give to my model\n",
        "prompt_template = \"\"\"\n",
        "### [INSTRUCTION]\n",
        "Answer the question based on your knowledge of crop management system:\n",
        "\n",
        "{context}\n",
        "\n",
        "### QUESTION:\n",
        "{question}\n",
        "\n",
        "[/INSTRUCTION]\n",
        "\"\"\"\n",
        "# #<-------------------------------------------------------------------------------------------------->"
      ]
    },
    {
      "cell_type": "markdown",
      "metadata": {
        "id": "lcclaSvzN48h"
      },
      "source": [
        "- This function generate_response(prompt) generates a response using the **LLM chain** and taking context from the data which we gave in vector database which makes a **RAG Chain**\n",
        "- These functions work together to generate a prompt from a template and then use that prompt to get a response from the OpenAI GPT-3.5 model and then checking in the **vector database** for the context realted to the prompt and updating the output based on the context."
      ]
    },
    {
      "cell_type": "code",
      "execution_count": 87,
      "metadata": {
        "id": "SA-_aylqN48i"
      },
      "outputs": [],
      "source": [
        "#<-------------------------------------------------------------------------------------------------->\n",
        "# Create prompt from prompt template\n",
        "def generate_prompt(context, question):\n",
        "    prompt = prompt_template.format(context=context, question=question)\n",
        "    return prompt\n",
        "\n",
        "# #<-------------------------------------------------------------------------------------------------->\n",
        "\n",
        "# Creating LLM chain\n",
        "def generate_respons(prompt):\n",
        "    # Create a list of messages\n",
        "    messages = [\n",
        "        {\"role\": \"system\", \"content\": \"You have good knowledge about crop management system.\"},\n",
        "        {\"role\": \"user\", \"content\": prompt},\n",
        "    ]\n",
        "\n",
        "    # Call the OpenAI API with the list of messages\n",
        "    # client = openai(api_key='...')\n",
        "    response = openai.chat.completions.create(\n",
        "        model=model_id,\n",
        "        messages=messages,\n",
        "        temperature=0.5,\n",
        "        max_tokens=2500,\n",
        "        top_p=1.0,\n",
        "        frequency_penalty=0.0,\n",
        "        presence_penalty=0.0\n",
        "    )\n",
        "\n",
        "    # Return the text content of the response\n",
        "    return response.choices[0].message.content.strip()\n",
        "# #<-------------------------------------------------------------------------------------------------->"
      ]
    },
    {
      "cell_type": "markdown",
      "metadata": {
        "id": "Xy1IsD30N48i"
      },
      "source": [
        "# **Testing our model created on RAG chain**\n",
        "- Printing the output by the llm model by giving context to it from the vector database"
      ]
    },
    {
      "cell_type": "code",
      "execution_count": 88,
      "metadata": {
        "colab": {
          "base_uri": "https://localhost:8080/"
        },
        "id": "pU_5voU1N48i",
        "outputId": "617d1f3f-da1f-4735-d9e4-209561795d39"
      },
      "outputs": [
        {
          "name": "stdout",
          "output_type": "stream",
          "text": [
            "To handle apple scab disease, the following practices can be implemented:\n",
            "\n",
            "1. **Fungicide Application**: Control of the apple scab pathogen is primarily done through fungicides on a timed schedule. Initiate a fungicidal spray program when conditions favor infection.\n",
            "\n",
            "2. **Cultural Practices**:\n",
            "    - **Remove Infected or Dead Plant Tissues**: Regularly remove infected or dead plant tissues to reduce the spread of the disease.\n",
            "    - **Use Resistant Varieties**: Plant resistant apple varieties to reduce the susceptibility to apple scab.\n",
            "\n",
            "3. **Monitoring and Forecasting**:\n",
            "    - Monitor for initial inoculum and weather conditions conducive for spore release and infection. Initiate control measures when infection is favored.\n",
            "  \n",
            "4. **Diagnostic Information**:\n",
            "    - Complete diagnostic information sheets or questionnaires when sending samples for diagnosis to understand the extent of the infection.\n",
            "\n",
            "5. **Seek Expert Assistance**:\n",
            "    - If needed, seek assistance from county extension agents or plant pathologists for accurate diagnosis and guidance on managing apple scab effectively.\n"
          ]
        }
      ],
      "source": [
        "#<-------------------------------------------------------------------------------------------------->\n",
        "# Query to be asked\n",
        "query = \"How to handle apple scab disease\"\n",
        "\n",
        "# Invoking query in pipeline\n",
        "context = augment_prompt(query)\n",
        "prompt = generate_prompt(context, query)\n",
        "response = generate_respons(prompt)\n",
        "# Storing output text\n",
        "output = response\n",
        "print(output)\n",
        "# #<-------------------------------------------------------------------------------------------------->"
      ]
    },
    {
      "cell_type": "markdown",
      "metadata": {
        "id": "t32ve-nYN48i"
      },
      "source": [
        "# **Voice-Recognition**\n",
        "- Adding voice functionality"
      ]
    },
    {
      "cell_type": "code",
      "execution_count": 89,
      "metadata": {
        "id": "IS2EgTwgN48j"
      },
      "outputs": [],
      "source": [
        "# # #<-------------------------------------------------------------------------------------------------->\n",
        "# #Importing the libraries\n",
        "# import speech_recognition as sr\n",
        "# import pyttsx3\n",
        "# # #<-------------------------------------------------------------------------------------------------->"
      ]
    },
    {
      "cell_type": "markdown",
      "metadata": {
        "id": "aMTiLgTSN48j"
      },
      "source": [
        "- Building all the required functions for handling voice features\n",
        "1) Convert voice to text\n",
        "2) text to speech\n",
        "3) Speech to text"
      ]
    },
    {
      "cell_type": "code",
      "execution_count": 90,
      "metadata": {
        "id": "kHpgm0I2N48j"
      },
      "outputs": [],
      "source": [
        "# # #<-------------------------------------------------------------------------------------------------->\n",
        "# recognizer = sr.Recognizer()\n",
        "# def capture_voice_input():\n",
        "#     with sr.Microphone() as source:\n",
        "#         print(\"Listening...\")\n",
        "#         audio = recognizer.listen(source)\n",
        "#     return audio\n",
        "# # #<-------------------------------------------------------------------------------------------------->\n",
        "# def convert_voice_to_text(audio):\n",
        "#     try:\n",
        "#         text = recognizer.recognize_google(audio)\n",
        "#         print(\"You said: \" + text)\n",
        "#     except sr.UnknownValueError:\n",
        "#         text = \"\"\n",
        "#         print(\"Sorry, I didn't understand that.\")\n",
        "#     except sr.RequestError as e:\n",
        "#         text = \"\"\n",
        "#         print(\"Error; {0}\".format(e))\n",
        "#     return text\n",
        "# # #<-------------------------------------------------------------------------------------------------->\n",
        "# def text_to_speech(text):\n",
        "#     engine = pyttsx3.init()\n",
        "#     engine.say(text)\n",
        "#     engine.runAndWait()\n",
        "# # #<-------------------------------------------------------------------------------------------------->\n",
        "# def speech_to_text():\n",
        "#     recognizer = sr.Recognizer()\n",
        "#     with sr.Microphone() as source:\n",
        "#         print(\"Say something:\")\n",
        "#         audio = recognizer.listen(source)\n",
        "\n",
        "#     try:\n",
        "#         print(\"You said: \" + recognizer.recognize_google(audio))\n",
        "#     except sr.UnknownValueError:\n",
        "#         print(\"Could not understand audio\")\n",
        "#     except sr.RequestError as e:\n",
        "#         print(\"Could not request results; {0}\".format(e))\n",
        "\n",
        "# # #<-------------------------------------------------------------------------------------------------->"
      ]
    },
    {
      "cell_type": "markdown",
      "metadata": {
        "id": "oZTsvg6HN48j"
      },
      "source": [
        "# **Summarizing the generated response by our model**\n",
        "- Using facebook bart large cnn model for this task"
      ]
    },
    {
      "cell_type": "code",
      "execution_count": 91,
      "metadata": {
        "id": "GD4GDEh0N48k"
      },
      "outputs": [],
      "source": [
        "# # #<-------------------------------------------------------------------------------------------------->\n",
        "# #Importing libraries for text summarization\n",
        "# from transformers import BartTokenizer, BartForConditionalGeneration\n",
        "# model_name = \"facebook/bart-large-cnn\"\n",
        "# tokenizer = BartTokenizer.from_pretrained(model_name)\n",
        "# model = BartForConditionalGeneration.from_pretrained(model_name)\n",
        "# # #<-------------------------------------------------------------------------------------------------->"
      ]
    },
    {
      "cell_type": "code",
      "execution_count": 92,
      "metadata": {
        "id": "1JMG7iw7N48k"
      },
      "outputs": [],
      "source": [
        "# # #<-------------------------------------------------------------------------------------------------->\n",
        "# def summarze_output(output):\n",
        "#     input_text =output\n",
        "#     inputs = tokenizer.encode(\"summarize: \" + input_text, return_tensors=\"pt\", max_length=1024, truncation=True)\n",
        "#     summary_ids = model.generate(inputs, max_length=100, min_length=50, length_penalty=2.0, num_beams=4, early_stopping=True)\n",
        "#     summary = tokenizer.decode(summary_ids[0], skip_special_tokens=True)\n",
        "#     return summary\n",
        "# # #<-------------------------------------------------------------------------------------------------->"
      ]
    },
    {
      "cell_type": "markdown",
      "metadata": {
        "id": "SsCF4TI3N48k"
      },
      "source": [
        "**Callling the above functions and integrating them**"
      ]
    },
    {
      "cell_type": "code",
      "execution_count": 93,
      "metadata": {
        "id": "Otoa889kN48k"
      },
      "outputs": [],
      "source": [
        "# #<-------------------------------------------------------------------------------------------------->\n",
        "# audio = capture_voice_input()\n",
        "# query = convert_voice_to_text(audio)\n",
        "# context = augment_prompt(query)\n",
        "# prompt = generate_prompt(context, query)\n",
        "# response = generate_respons(prompt)\n",
        "# # #<-------------------------------------------------------------------------------------------------->\n",
        "# out = response\n",
        "# print(out)\n",
        "# #<-------------------------------------------------------------------------------------------------->\n",
        "# print(summarze_output(out))\n",
        "# #<-------------------------------------------------------------------------------------------------->\n"
      ]
    },
    {
      "cell_type": "code",
      "execution_count": 94,
      "metadata": {
        "colab": {
          "base_uri": "https://localhost:8080/"
        },
        "id": "YawNnR-oac9r",
        "outputId": "45d7cb27-61ff-4068-be96-01418139d32c"
      },
      "outputs": [],
      "source": [
        "# !pip install fastapi uvicorn"
      ]
    },
    {
      "cell_type": "code",
      "execution_count": 95,
      "metadata": {
        "id": "wr_0QnxYN48l"
      },
      "outputs": [
        {
          "ename": "ModuleNotFoundError",
          "evalue": "No module named 'fastapi'",
          "output_type": "error",
          "traceback": [
            "\u001b[1;31m---------------------------------------------------------------------------\u001b[0m",
            "\u001b[1;31mModuleNotFoundError\u001b[0m                       Traceback (most recent call last)",
            "Cell \u001b[1;32mIn[95], line 1\u001b[0m\n\u001b[1;32m----> 1\u001b[0m \u001b[38;5;28;01mfrom\u001b[39;00m \u001b[38;5;21;01mfastapi\u001b[39;00m \u001b[38;5;28;01mimport\u001b[39;00m FastAPI, Query\n\u001b[0;32m      2\u001b[0m \u001b[38;5;28;01mfrom\u001b[39;00m \u001b[38;5;21;01mfastapi\u001b[39;00m\u001b[38;5;21;01m.\u001b[39;00m\u001b[38;5;21;01mmiddleware\u001b[39;00m\u001b[38;5;21;01m.\u001b[39;00m\u001b[38;5;21;01mcors\u001b[39;00m \u001b[38;5;28;01mimport\u001b[39;00m CORSMiddleware\n\u001b[0;32m      3\u001b[0m app \u001b[38;5;241m=\u001b[39m FastAPI()\n",
            "\u001b[1;31mModuleNotFoundError\u001b[0m: No module named 'fastapi'"
          ]
        }
      ],
      "source": [
        "from fastapi import FastAPI, Query\n",
        "from fastapi.middleware.cors import CORSMiddleware\n",
        "app = FastAPI()\n",
        "origins = [\n",
        "    \"http://localhost:3000\",  # Add other allowed origins as needed\n",
        "]\n",
        "\n",
        "app.add_middleware(\n",
        "    CORSMiddleware,\n",
        "    allow_origins=origins,\n",
        "    allow_credentials=True,\n",
        "    allow_methods=[\"*\"],\n",
        "    allow_headers=[\"*\"],\n",
        ")\n",
        "\n",
        "@app.get(\"/generate_response/\")\n",
        "async def generate_response(input_data: str = Query(..., title=\"input_data\", description=\"Enter your prompt here\")):\n",
        "    context = augment_prompt(input_data)\n",
        "    prompt = generate_prompt(context, input_data)\n",
        "    response = generate_respons(prompt)\n",
        "    # summarze_output(response)\n",
        "    print(response)\n",
        "    return {\"response\": response}"
      ]
    },
    {
      "cell_type": "code",
      "execution_count": null,
      "metadata": {
        "colab": {
          "base_uri": "https://localhost:8080/"
        },
        "id": "mQCKeuMlN48l",
        "outputId": "e45a2f11-0a6b-4506-926f-1151a917c99b"
      },
      "outputs": [
        {
          "name": "stderr",
          "output_type": "stream",
          "text": [
            "INFO:     Started server process [8532]\n",
            "INFO:     Waiting for application startup.\n",
            "INFO:     Application startup complete.\n",
            "INFO:     Uvicorn running on http://127.0.0.1:8000 (Press CTRL+C to quit)\n"
          ]
        },
        {
          "name": "stdout",
          "output_type": "stream",
          "text": [
            "Hello! How can I assist you today with crop management system?\n",
            "INFO:     127.0.0.1:65063 - \"GET /generate_response/?input_data=Hi HTTP/1.1\" 200 OK\n",
            "To handle apple scab disease, several management practices can be implemented:\n",
            "\n",
            "1. **Fungicide Application**: Control of the apple scab pathogen is primarily done through the application of fungicides on a timed schedule. Fungicides should be applied preventatively before the disease appears, following the recommendations provided by agricultural extension services or plant pathologists.\n",
            "\n",
            "2. **Sanitation**: Removal of infected or dead plant tissues, such as fallen leaves, can help reduce the overwintering of the apple scab pathogen. This practice reduces the initial inoculum for the next growing season.\n",
            "\n",
            "3. **Resistant Varieties**: Planting resistant apple varieties can help reduce the impact of apple scab disease. Resistant varieties are less susceptible to infection, providing a natural defense against the pathogen.\n",
            "\n",
            "4. **Monitoring and Forecasting**: Regular monitoring of weather conditions and the presence of initial inoculum can help predict disease outbreaks. When conditions favor infection, initiating a fungicidal spray program based on forecasting recommendations can help manage the disease effectively.\n",
            "\n",
            "5. **Cultural Practices**: Implementing good cultural practices, such as proper spacing between plants to promote air circulation, avoiding overhead irrigation, and maintaining overall plant health, can also contribute to reducing the severity of apple scab disease.\n",
            "\n",
            "By combining these management practices, growers can effectively handle apple scab disease and minimize its impact on apple orchards.\n",
            "INFO:     127.0.0.1:65072 - \"GET /generate_response/?input_data=how%20to%20handle%20apple%20scab%20disease HTTP/1.1\" 200 OK\n",
            "To get profit from agriculture, farmers need to focus on efficient farm management practices and strategic decision-making. Here are some key steps to maximize profits in agriculture:\n",
            "\n",
            "1. **Choose the right crops**: Selecting the right crops based on factors such as market demand, soil suitability, climate conditions, and profitability is crucial. Conduct a thorough analysis of different crop options, considering factors like gross margins, labor productivity, and capital productivity.\n",
            "\n",
            "2. **Minimize input costs**: Minimizing input costs by judiciously using resources such as fertilizers, pesticides, water, and labor can help increase profitability. Efficient management of resources is essential to optimize production costs.\n",
            "\n",
            "3. **Increase production and productivity**: Implement practices that enhance production and productivity, such as using high-quality seeds, adopting modern farming techniques, and ensuring proper irrigation and crop nutrition. Increasing yield per unit area can directly impact profits.\n",
            "\n",
            "4. **Enhance crop quality**: Focus on producing high-quality crops that meet market standards and consumer preferences. Quality produce often commands higher prices in the market, leading to increased profits.\n",
            "\n",
            "5. **Market-driven production**: Plan your production based on market demand and trends. Understanding market dynamics, consumer preferences, and price fluctuations can help farmers make informed decisions to maximize profits.\n",
            "\n",
            "6. **Risk management**: Identify potential risks such as pest infestations, adverse weather conditions, market price fluctuations, and financial constraints. Develop risk management strategies to mitigate these risks and safeguard your profits.\n",
            "\n",
            "7. **Diversification and crop rotation**: Avoid continuous monocropping to maintain soil fertility and sustainability. Implement crop diversification and rotation practices to optimize soil health, reduce pest pressure, and ensure long-term profitability.\n",
            "\n",
            "8. **Monitor and analyze farm performance**: Keep detailed records of inputs, expenses, yields, and revenues for each crop cycle. Regularly monitor and analyze farm performance to identify areas of improvement, cost-saving opportunities, and profit-enhancing strategies.\n",
            "\n",
            "By following these strategies and adopting a systematic approach to farm management, farmers can increase their chances of running a successful and profitable agricultural business.\n",
            "INFO:     127.0.0.1:65082 - \"GET /generate_response/?input_data=How%20to%20get%20profit%20from%20agriculture HTTP/1.1\" 200 OK\n",
            "To handle apple scab disease, the following practices can be implemented:\n",
            "\n",
            "1. **Fungicide Application**: Control of the apple scab pathogen is primarily done through the application of fungicides on a timed schedule. Regular fungicidal sprays are recommended, especially when weather conditions favor the release of spores and infection by the initial inoculum.\n",
            "\n",
            "2. **Sanitation**: Removal of infected or dead plant tissues is important to reduce the spread of the disease. This includes removing fallen leaves from the ground, as Venturia inaequalis, the apple scab pathogen, overwinters in leaves.\n",
            "\n",
            "3. **Resistant Varieties**: Planting resistant apple cultivars can help in reducing the severity of apple scab. Choosing varieties that are less susceptible to the disease can be an effective strategy.\n",
            "\n",
            "4. **Monitoring and Forecasting**: Keeping an eye on the weather conditions and monitoring for signs of the disease can help in timely intervention. Initiating fungicidal spray programs based on disease forecasts can be beneficial.\n",
            "\n",
            "5. **Professional Assistance**: In case of severe infestations or if unsure about the diagnosis, seeking help from plant pathology experts or county extension agents can provide valuable guidance and assistance in managing apple scab effectively. \n",
            "\n",
            "By implementing these strategies in an integrated manner, it is possible to effectively handle apple scab disease and minimize its impact on apple orchards.\n",
            "INFO:     127.0.0.1:65223 - \"GET /generate_response/?input_data=how%20to%20handle%20apple%20scab%20disease HTTP/1.1\" 200 OK\n"
          ]
        },
        {
          "name": "stderr",
          "output_type": "stream",
          "text": [
            "INFO:     Shutting down\n",
            "INFO:     Waiting for application shutdown.\n",
            "INFO:     Application shutdown complete.\n",
            "INFO:     Finished server process [8532]\n"
          ]
        }
      ],
      "source": [
        "import asyncio\n",
        "import uvicorn\n",
        "if __name__ == \"__main__\":\n",
        "    config = uvicorn.Config(app)\n",
        "    server = uvicorn.Server(config)\n",
        "    await server.serve()"
      ]
    }
  ],
  "metadata": {
    "colab": {
      "provenance": []
    },
    "kernelspec": {
      "display_name": "Python 3",
      "language": "python",
      "name": "python3"
    },
    "language_info": {
      "codemirror_mode": {
        "name": "ipython",
        "version": 3
      },
      "file_extension": ".py",
      "mimetype": "text/x-python",
      "name": "python",
      "nbconvert_exporter": "python",
      "pygments_lexer": "ipython3",
      "version": "3.11.0"
    }
  },
  "nbformat": 4,
  "nbformat_minor": 0
}
